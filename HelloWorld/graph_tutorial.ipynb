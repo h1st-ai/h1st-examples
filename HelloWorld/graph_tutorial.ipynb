{
 "cells": [
  {
   "cell_type": "markdown",
   "metadata": {},
   "source": [
    "# H1st Graph Guide"
   ]
  },
  {
   "cell_type": "markdown",
   "metadata": {},
   "source": [
    "H1st Graph is an execution flow chart that allows the incorporation of ML as well as human expert models.\n",
    "\n",
    "This is an example of a very simple graph which prints hello for each even number `x` in the input stream,\n",
    "using a conditional `RuleBasedModel` which is a `h1.Model` node and a HelloPrinter which is a `h1.Action` node."
   ]
  },
  {
   "cell_type": "code",
   "execution_count": 1,
   "metadata": {},
   "outputs": [],
   "source": [
    "import h1st.core as h1\n",
    "\n",
    "class RuleBasedModel(h1.Model):\n",
    "    \"\"\"\n",
    "    Simple rule-based model that \"predicts\" if a given value is an even number\n",
    "    \"\"\"\n",
    "    def predict(self, input_data: dict) -> dict:\n",
    "        predictions = [{'prediction': x % 2 == 0, 'value': x} for x in input_data[\"values\"]]\n",
    "        return {\"predictions\": predictions}\n",
    "\n",
    "class HelloPrinter(h1.Action):\n",
    "    \"\"\"Print hello to the inputs value\"\"\"\n",
    "    def call(self, command, inputs):\n",
    "        # Note that H1st does the conditional/filtering orchestration already.\n",
    "        # All we need to do here is just to print.\n",
    "        for d in inputs[\"predictions\"]:\n",
    "            print(\"Hello world {}!\".format(d[\"value\"]))"
   ]
  },
  {
   "cell_type": "markdown",
   "metadata": {},
   "source": [
    "The H1st graph itself is created by `add()`ing nodes incrementally.\n",
    "\n",
    "Note that the first branch is a `h1.Decision` which redirects the data flow into the later `yes` and `no` nodes based on the RuleBasedModel's predictions`.\n",
    "\n",
    "In terms of data flow, the RuleBasedModel node produces a dict of which is then used by `h1.Decision` to redirect the data stream by looking at the `result_field=predictions` dict key.\n",
    "\n",
    "H1st graph by default operates in batch mode, meaning that `h1.Decision` looks at `{\"predictions\": [{\"prediciton\": True, ...}, {\"prediction\": False, }]}` and redirect True/False decision points to the to the right `yes/no` branch as a list."
   ]
  },
  {
   "cell_type": "code",
   "execution_count": 4,
   "metadata": {
    "tags": []
   },
   "outputs": [
    {
     "name": "stdout",
     "output_type": "stream",
     "text": [
      "Hello world 0!\n",
      "Hello world 2!\n",
      "Hello world 4!\n"
     ]
    }
   ],
   "source": [
    "g = h1.Graph()\n",
    "g.start()\n",
    "g.add(h1.Decision(RuleBasedModel(), result_field=\"predictions\"))\n",
    "g.add(yes=HelloPrinter(), no=h1.NoOp())\n",
    "g.end()\n",
    "\n",
    "results = g.predict({\"values\": range(6)})"
   ]
  }
 ],
 "metadata": {
  "kernelspec": {
   "display_name": "Python 3",
   "language": "python",
   "name": "python3"
  },
  "language_info": {
   "codemirror_mode": {
    "name": "ipython",
    "version": 3
   },
   "file_extension": ".py",
   "mimetype": "text/x-python",
   "name": "python",
   "nbconvert_exporter": "python",
   "pygments_lexer": "ipython3",
   "version": "3.8.2"
  }
 },
 "nbformat": 4,
 "nbformat_minor": 2
}
