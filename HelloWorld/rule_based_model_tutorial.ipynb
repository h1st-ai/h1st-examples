{
 "cells": [
  {
   "cell_type": "markdown",
   "metadata": {},
   "source": [
    "# H1st Rule-based Model Guide"
   ]
  },
  {
   "cell_type": "markdown",
   "metadata": {},
   "source": [
    "Rule-based model is an example of usingour human knowledge to solve a problem. You could also use boolean logic, fuzzy logic, or make decision based on statistcs or myriad other ways that humans do to solve problems.\n",
    "\n",
    "Rule-based model is very useful to solve the cold start problem, where data is not available.\n",
    "\n",
    "In H1st framework, a human rule model can be implemented by subclassing the `h1.Model` class and implementing only the `predict()` function.  Basically, it’s a just a model with no training (though training is not forbidden and is sometimes is useful for human models too).\n",
    "\n",
    "This particular simple model \"predicts\" if each given value in a stream is an even number or not."
   ]
  },
  {
   "cell_type": "code",
   "execution_count": 1,
   "metadata": {},
   "outputs": [],
   "source": [
    "import h1st.core as h1\n",
    "\n",
    "class RuleBasedModel(h1.Model):\n",
    "    \"\"\"\n",
    "    Simple rule-based model that \"predicts\" if a given value is an even number\n",
    "    \"\"\"\n",
    "    def predict(self, input_data: dict) -> dict:\n",
    "        predictions = [{'prediction': x % 2 == 0, 'value': x} for x in input_data[\"values\"]]\n",
    "        return {\"predictions\": predictions}"
   ]
  },
  {
   "cell_type": "code",
   "execution_count": 2,
   "metadata": {
    "tags": []
   },
   "outputs": [
    {
     "name": "stdout",
     "output_type": "stream",
     "text": [
      "RuleBasedModel's predictions for [0, 1, 2, 3, 4, 5] are [{'prediction': True, 'value': 0}, {'prediction': False, 'value': 1}, {'prediction': True, 'value': 2}, {'prediction': False, 'value': 3}, {'prediction': True, 'value': 4}, {'prediction': False, 'value': 5}]\n"
     ]
    }
   ],
   "source": [
    "m = RuleBasedModel()\n",
    "xs = list(range(6))\n",
    "results = m.predict({\"values\": xs})\n",
    "predictions = results[\"predictions\"]\n",
    "print(f\"RuleBasedModel's predictions for {xs} are {predictions}\")\n"
   ]
  },
  {
   "cell_type": "code",
   "execution_count": null,
   "metadata": {},
   "outputs": [],
   "source": []
  }
 ],
 "metadata": {
  "kernelspec": {
   "display_name": "Python 3",
   "language": "python",
   "name": "python3"
  },
  "language_info": {
   "codemirror_mode": {
    "name": "ipython",
    "version": 3
   },
   "file_extension": ".py",
   "mimetype": "text/x-python",
   "name": "python",
   "nbconvert_exporter": "python",
   "pygments_lexer": "ipython3",
   "version": "3.8.2"
  }
 },
 "nbformat": 4,
 "nbformat_minor": 2
}
