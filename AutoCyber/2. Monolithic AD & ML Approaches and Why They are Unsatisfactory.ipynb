{
 "cells": [
  {
   "cell_type": "markdown",
   "metadata": {},
   "source": [
    "# 2. Monolithic AD & ML Approaches and Why They are Unsatisfactory"
   ]
  },
  {
   "cell_type": "markdown",
   "metadata": {},
   "source": [
    "Given the abundance of normal driving data, the problem naturally leads to an anomaly detection (AD) formulation. Let’s try some off-the-shell well-known methods for example Isolation Forest!\n",
    "\n",
    "In theory, AD approach isn't affected by the Cold Start problem as training data is normal data only, and is hence we only need labels during evaluation of the intrusion detection system.\n",
    "\n",
    "But will it work accurately enough? Let's try!"
   ]
  },
  {
   "cell_type": "markdown",
   "metadata": {},
   "source": [
    "### 2a. A naive AD approach using IsolationForest"
   ]
  },
  {
   "cell_type": "code",
   "execution_count": 1,
   "metadata": {},
   "outputs": [
    {
     "data": {
      "text/html": [
       "<div>\n",
       "<style scoped>\n",
       "    .dataframe tbody tr th:only-of-type {\n",
       "        vertical-align: middle;\n",
       "    }\n",
       "\n",
       "    .dataframe tbody tr th {\n",
       "        vertical-align: top;\n",
       "    }\n",
       "\n",
       "    .dataframe thead th {\n",
       "        text-align: right;\n",
       "    }\n",
       "</style>\n",
       "<table border=\"1\" class=\"dataframe\">\n",
       "  <thead>\n",
       "    <tr style=\"text-align: right;\">\n",
       "      <th></th>\n",
       "      <th>Timestamp</th>\n",
       "      <th>SteeringAngle</th>\n",
       "      <th>CarSpeed</th>\n",
       "      <th>YawRate</th>\n",
       "      <th>Gx</th>\n",
       "      <th>Gy</th>\n",
       "      <th>Label</th>\n",
       "      <th>AttackSensor</th>\n",
       "      <th>AttackMethod</th>\n",
       "      <th>AttackParams</th>\n",
       "      <th>AttackEventIndex</th>\n",
       "    </tr>\n",
       "  </thead>\n",
       "  <tbody>\n",
       "    <tr>\n",
       "      <th>21768</th>\n",
       "      <td>101.062936</td>\n",
       "      <td>NaN</td>\n",
       "      <td>NaN</td>\n",
       "      <td>2.380646</td>\n",
       "      <td>0.349023</td>\n",
       "      <td>0.463921</td>\n",
       "      <td>Normal</td>\n",
       "      <td>NA</td>\n",
       "      <td>NA</td>\n",
       "      <td>0.000000</td>\n",
       "      <td>1</td>\n",
       "    </tr>\n",
       "    <tr>\n",
       "      <th>21769</th>\n",
       "      <td>101.064817</td>\n",
       "      <td>13.3680</td>\n",
       "      <td>NaN</td>\n",
       "      <td>NaN</td>\n",
       "      <td>NaN</td>\n",
       "      <td>NaN</td>\n",
       "      <td>Normal</td>\n",
       "      <td>NA</td>\n",
       "      <td>NA</td>\n",
       "      <td>0.000000</td>\n",
       "      <td>1</td>\n",
       "    </tr>\n",
       "    <tr>\n",
       "      <th>21770</th>\n",
       "      <td>101.073021</td>\n",
       "      <td>NaN</td>\n",
       "      <td>NaN</td>\n",
       "      <td>2.363797</td>\n",
       "      <td>0.351361</td>\n",
       "      <td>0.459190</td>\n",
       "      <td>Normal</td>\n",
       "      <td>NA</td>\n",
       "      <td>NA</td>\n",
       "      <td>0.000000</td>\n",
       "      <td>1</td>\n",
       "    </tr>\n",
       "    <tr>\n",
       "      <th>21771</th>\n",
       "      <td>101.073533</td>\n",
       "      <td>NaN</td>\n",
       "      <td>NaN</td>\n",
       "      <td>2.397497</td>\n",
       "      <td>0.351361</td>\n",
       "      <td>0.459190</td>\n",
       "      <td>Attack</td>\n",
       "      <td>YawRate</td>\n",
       "      <td>quadratic</td>\n",
       "      <td>0.252221</td>\n",
       "      <td>1</td>\n",
       "    </tr>\n",
       "    <tr>\n",
       "      <th>21772</th>\n",
       "      <td>101.077089</td>\n",
       "      <td>13.2808</td>\n",
       "      <td>NaN</td>\n",
       "      <td>NaN</td>\n",
       "      <td>NaN</td>\n",
       "      <td>NaN</td>\n",
       "      <td>Normal</td>\n",
       "      <td>NA</td>\n",
       "      <td>NA</td>\n",
       "      <td>0.000000</td>\n",
       "      <td>1</td>\n",
       "    </tr>\n",
       "    <tr>\n",
       "      <th>21773</th>\n",
       "      <td>101.078002</td>\n",
       "      <td>NaN</td>\n",
       "      <td>34.59</td>\n",
       "      <td>NaN</td>\n",
       "      <td>NaN</td>\n",
       "      <td>NaN</td>\n",
       "      <td>Normal</td>\n",
       "      <td>NA</td>\n",
       "      <td>NA</td>\n",
       "      <td>0.000000</td>\n",
       "      <td>1</td>\n",
       "    </tr>\n",
       "    <tr>\n",
       "      <th>21774</th>\n",
       "      <td>101.085562</td>\n",
       "      <td>NaN</td>\n",
       "      <td>NaN</td>\n",
       "      <td>2.346948</td>\n",
       "      <td>0.353699</td>\n",
       "      <td>0.454460</td>\n",
       "      <td>Normal</td>\n",
       "      <td>NA</td>\n",
       "      <td>NA</td>\n",
       "      <td>0.000000</td>\n",
       "      <td>1</td>\n",
       "    </tr>\n",
       "    <tr>\n",
       "      <th>21775</th>\n",
       "      <td>101.085998</td>\n",
       "      <td>NaN</td>\n",
       "      <td>NaN</td>\n",
       "      <td>2.397515</td>\n",
       "      <td>0.353699</td>\n",
       "      <td>0.454460</td>\n",
       "      <td>Attack</td>\n",
       "      <td>YawRate</td>\n",
       "      <td>quadratic</td>\n",
       "      <td>0.252221</td>\n",
       "      <td>1</td>\n",
       "    </tr>\n",
       "    <tr>\n",
       "      <th>21776</th>\n",
       "      <td>101.088035</td>\n",
       "      <td>13.1936</td>\n",
       "      <td>NaN</td>\n",
       "      <td>NaN</td>\n",
       "      <td>NaN</td>\n",
       "      <td>NaN</td>\n",
       "      <td>Normal</td>\n",
       "      <td>NA</td>\n",
       "      <td>NA</td>\n",
       "      <td>0.000000</td>\n",
       "      <td>1</td>\n",
       "    </tr>\n",
       "    <tr>\n",
       "      <th>21777</th>\n",
       "      <td>101.096243</td>\n",
       "      <td>NaN</td>\n",
       "      <td>NaN</td>\n",
       "      <td>2.330098</td>\n",
       "      <td>0.356037</td>\n",
       "      <td>0.449729</td>\n",
       "      <td>Normal</td>\n",
       "      <td>NA</td>\n",
       "      <td>NA</td>\n",
       "      <td>0.000000</td>\n",
       "      <td>1</td>\n",
       "    </tr>\n",
       "    <tr>\n",
       "      <th>21778</th>\n",
       "      <td>101.098066</td>\n",
       "      <td>NaN</td>\n",
       "      <td>NaN</td>\n",
       "      <td>2.397659</td>\n",
       "      <td>0.356037</td>\n",
       "      <td>0.449729</td>\n",
       "      <td>Attack</td>\n",
       "      <td>YawRate</td>\n",
       "      <td>quadratic</td>\n",
       "      <td>0.252221</td>\n",
       "      <td>1</td>\n",
       "    </tr>\n",
       "    <tr>\n",
       "      <th>21779</th>\n",
       "      <td>101.099773</td>\n",
       "      <td>NaN</td>\n",
       "      <td>NaN</td>\n",
       "      <td>2.313249</td>\n",
       "      <td>0.358375</td>\n",
       "      <td>0.444998</td>\n",
       "      <td>Normal</td>\n",
       "      <td>NA</td>\n",
       "      <td>NA</td>\n",
       "      <td>0.000000</td>\n",
       "      <td>1</td>\n",
       "    </tr>\n",
       "    <tr>\n",
       "      <th>21780</th>\n",
       "      <td>101.100391</td>\n",
       "      <td>13.1064</td>\n",
       "      <td>NaN</td>\n",
       "      <td>NaN</td>\n",
       "      <td>NaN</td>\n",
       "      <td>NaN</td>\n",
       "      <td>Normal</td>\n",
       "      <td>NA</td>\n",
       "      <td>NA</td>\n",
       "      <td>0.000000</td>\n",
       "      <td>1</td>\n",
       "    </tr>\n",
       "    <tr>\n",
       "      <th>21781</th>\n",
       "      <td>101.103478</td>\n",
       "      <td>NaN</td>\n",
       "      <td>34.59</td>\n",
       "      <td>NaN</td>\n",
       "      <td>NaN</td>\n",
       "      <td>NaN</td>\n",
       "      <td>Normal</td>\n",
       "      <td>NA</td>\n",
       "      <td>NA</td>\n",
       "      <td>0.000000</td>\n",
       "      <td>1</td>\n",
       "    </tr>\n",
       "    <tr>\n",
       "      <th>21782</th>\n",
       "      <td>101.109727</td>\n",
       "      <td>NaN</td>\n",
       "      <td>NaN</td>\n",
       "      <td>2.397804</td>\n",
       "      <td>0.358375</td>\n",
       "      <td>0.444998</td>\n",
       "      <td>Attack</td>\n",
       "      <td>YawRate</td>\n",
       "      <td>quadratic</td>\n",
       "      <td>0.252221</td>\n",
       "      <td>1</td>\n",
       "    </tr>\n",
       "    <tr>\n",
       "      <th>21783</th>\n",
       "      <td>101.110144</td>\n",
       "      <td>NaN</td>\n",
       "      <td>NaN</td>\n",
       "      <td>2.296399</td>\n",
       "      <td>0.360713</td>\n",
       "      <td>0.440268</td>\n",
       "      <td>Normal</td>\n",
       "      <td>NA</td>\n",
       "      <td>NA</td>\n",
       "      <td>0.000000</td>\n",
       "      <td>1</td>\n",
       "    </tr>\n",
       "    <tr>\n",
       "      <th>21784</th>\n",
       "      <td>101.111623</td>\n",
       "      <td>13.0192</td>\n",
       "      <td>NaN</td>\n",
       "      <td>NaN</td>\n",
       "      <td>NaN</td>\n",
       "      <td>NaN</td>\n",
       "      <td>Normal</td>\n",
       "      <td>NA</td>\n",
       "      <td>NA</td>\n",
       "      <td>0.000000</td>\n",
       "      <td>1</td>\n",
       "    </tr>\n",
       "    <tr>\n",
       "      <th>21785</th>\n",
       "      <td>101.121875</td>\n",
       "      <td>NaN</td>\n",
       "      <td>NaN</td>\n",
       "      <td>2.397611</td>\n",
       "      <td>0.360713</td>\n",
       "      <td>0.440268</td>\n",
       "      <td>Attack</td>\n",
       "      <td>YawRate</td>\n",
       "      <td>quadratic</td>\n",
       "      <td>0.252221</td>\n",
       "      <td>1</td>\n",
       "    </tr>\n",
       "    <tr>\n",
       "      <th>21786</th>\n",
       "      <td>101.121972</td>\n",
       "      <td>NaN</td>\n",
       "      <td>NaN</td>\n",
       "      <td>2.279550</td>\n",
       "      <td>0.363051</td>\n",
       "      <td>0.435537</td>\n",
       "      <td>Normal</td>\n",
       "      <td>NA</td>\n",
       "      <td>NA</td>\n",
       "      <td>0.000000</td>\n",
       "      <td>1</td>\n",
       "    </tr>\n",
       "    <tr>\n",
       "      <th>21787</th>\n",
       "      <td>101.124767</td>\n",
       "      <td>12.9320</td>\n",
       "      <td>NaN</td>\n",
       "      <td>NaN</td>\n",
       "      <td>NaN</td>\n",
       "      <td>NaN</td>\n",
       "      <td>Normal</td>\n",
       "      <td>NA</td>\n",
       "      <td>NA</td>\n",
       "      <td>0.000000</td>\n",
       "      <td>1</td>\n",
       "    </tr>\n",
       "  </tbody>\n",
       "</table>\n",
       "</div>"
      ],
      "text/plain": [
       "        Timestamp  SteeringAngle  CarSpeed   YawRate        Gx        Gy  \\\n",
       "21768  101.062936            NaN       NaN  2.380646  0.349023  0.463921   \n",
       "21769  101.064817        13.3680       NaN       NaN       NaN       NaN   \n",
       "21770  101.073021            NaN       NaN  2.363797  0.351361  0.459190   \n",
       "21771  101.073533            NaN       NaN  2.397497  0.351361  0.459190   \n",
       "21772  101.077089        13.2808       NaN       NaN       NaN       NaN   \n",
       "21773  101.078002            NaN     34.59       NaN       NaN       NaN   \n",
       "21774  101.085562            NaN       NaN  2.346948  0.353699  0.454460   \n",
       "21775  101.085998            NaN       NaN  2.397515  0.353699  0.454460   \n",
       "21776  101.088035        13.1936       NaN       NaN       NaN       NaN   \n",
       "21777  101.096243            NaN       NaN  2.330098  0.356037  0.449729   \n",
       "21778  101.098066            NaN       NaN  2.397659  0.356037  0.449729   \n",
       "21779  101.099773            NaN       NaN  2.313249  0.358375  0.444998   \n",
       "21780  101.100391        13.1064       NaN       NaN       NaN       NaN   \n",
       "21781  101.103478            NaN     34.59       NaN       NaN       NaN   \n",
       "21782  101.109727            NaN       NaN  2.397804  0.358375  0.444998   \n",
       "21783  101.110144            NaN       NaN  2.296399  0.360713  0.440268   \n",
       "21784  101.111623        13.0192       NaN       NaN       NaN       NaN   \n",
       "21785  101.121875            NaN       NaN  2.397611  0.360713  0.440268   \n",
       "21786  101.121972            NaN       NaN  2.279550  0.363051  0.435537   \n",
       "21787  101.124767        12.9320       NaN       NaN       NaN       NaN   \n",
       "\n",
       "        Label AttackSensor AttackMethod  AttackParams  AttackEventIndex  \n",
       "21768  Normal           NA           NA      0.000000                 1  \n",
       "21769  Normal           NA           NA      0.000000                 1  \n",
       "21770  Normal           NA           NA      0.000000                 1  \n",
       "21771  Attack      YawRate    quadratic      0.252221                 1  \n",
       "21772  Normal           NA           NA      0.000000                 1  \n",
       "21773  Normal           NA           NA      0.000000                 1  \n",
       "21774  Normal           NA           NA      0.000000                 1  \n",
       "21775  Attack      YawRate    quadratic      0.252221                 1  \n",
       "21776  Normal           NA           NA      0.000000                 1  \n",
       "21777  Normal           NA           NA      0.000000                 1  \n",
       "21778  Attack      YawRate    quadratic      0.252221                 1  \n",
       "21779  Normal           NA           NA      0.000000                 1  \n",
       "21780  Normal           NA           NA      0.000000                 1  \n",
       "21781  Normal           NA           NA      0.000000                 1  \n",
       "21782  Attack      YawRate    quadratic      0.252221                 1  \n",
       "21783  Normal           NA           NA      0.000000                 1  \n",
       "21784  Normal           NA           NA      0.000000                 1  \n",
       "21785  Attack      YawRate    quadratic      0.252221                 1  \n",
       "21786  Normal           NA           NA      0.000000                 1  \n",
       "21787  Normal           NA           NA      0.000000                 1  "
      ]
     },
     "execution_count": 1,
     "metadata": {},
     "output_type": "execute_result"
    }
   ],
   "source": [
    "import pandas as pd\n",
    "\n",
    "df_train = pd.read_parquet(\"data/attack-samples/20181116_Driver1_Trip4-0.parquet\")\n",
    "\n",
    "df_train[df_train.AttackEventIndex==1].head(20)"
   ]
  },
  {
   "cell_type": "markdown",
   "metadata": {},
   "source": [
    "What did you notice based on the sequencing of the CAN messages? There seems to be particular rhythms.\n",
    "\n",
    "Let's include timing-based features, such as time diff since last message of the same type. "
   ]
  },
  {
   "cell_type": "code",
   "execution_count": 2,
   "metadata": {},
   "outputs": [],
   "source": [
    "SENSORS = [\"SteeringAngle\", \"CarSpeed\", \"YawRate\", \"Gx\", \"Gy\"]\n",
    "df_train_filled = df_train.copy()\n",
    "\n",
    "for s in SENSORS:\n",
    "    sensor_not_isna = df_train_filled[~df_train_filled[s].isna()]\n",
    "    df_train_filled[\"%s_TimeDiff\" % s] = sensor_not_isna.Timestamp - sensor_not_isna.shift(1).Timestamp"
   ]
  },
  {
   "cell_type": "markdown",
   "metadata": {},
   "source": [
    "We can clearly visualize that attack and normal messages have different timing distribution. Normal YawRate messages typically comes every 12.5ms, and the attack messages are injected much closer to previous messages (smaller time diffs).\n",
    "\n",
    "Can AD make use of this?"
   ]
  },
  {
   "cell_type": "code",
   "execution_count": 3,
   "metadata": {},
   "outputs": [
    {
     "data": {
      "text/plain": [
       "<matplotlib.axes._subplots.AxesSubplot at 0x1386bef50>"
      ]
     },
     "execution_count": 3,
     "metadata": {},
     "output_type": "execute_result"
    },
    {
     "data": {
      "image/png": "[encoded data removed]",
      "text/plain": [
       "<Figure size 432x288 with 1 Axes>"
      ]
     },
     "metadata": {
      "needs_background": "light"
     },
     "output_type": "display_data"
    }
   ],
   "source": [
    "import seaborn\n",
    "seaborn.violinplot(data=df_train_filled, y=\"YawRate_TimeDiff\", x=\"Label\")"
   ]
  },
  {
   "cell_type": "markdown",
   "metadata": {},
   "source": [
    "Also, we need to handle the NaN values due to the unique feature of CAN bus data, i.e. YawRate/Gx/Gy is a different CAN message than SteeringAngle or CarSpeed."
   ]
  },
  {
   "cell_type": "code",
   "execution_count": 4,
   "metadata": {},
   "outputs": [],
   "source": [
    "from sklearn.ensemble import IsolationForest\n",
    "\n",
    "FEATURES = SENSORS + [\"%s_TimeDiff\" % s for s in SENSORS]\n",
    "\n",
    "def compute_timediff_fillna(df):\n",
    "    df = df.copy()\n",
    "    for s in SENSORS:\n",
    "        sensor_not_isna = df[~df[s].isna()]\n",
    "        df[\"%s_TimeDiff\" % s] = sensor_not_isna.Timestamp - sensor_not_isna.shift(1).Timestamp\n",
    "    #print(df.head(20))\n",
    "\n",
    "    for s in SENSORS:\n",
    "        df[s] = df[s].fillna(method=\"ffill\")\n",
    "        df[\"%s_TimeDiff\" % s] = df[\"%s_TimeDiff\" % s].fillna(-1)\n",
    "    df.dropna(subset=FEATURES, inplace=True)\n",
    "    \n",
    "    return df\n",
    "\n",
    "df_train_filled = compute_timediff_fillna(df_train)\n",
    "\n",
    "iforest = IsolationForest(n_estimators=500).fit(df_train_filled[FEATURES])"
   ]
  },
  {
   "cell_type": "code",
   "execution_count": 5,
   "metadata": {},
   "outputs": [],
   "source": [
    "import numpy as np\n",
    "import sklearn.metrics\n",
    "\n",
    "df_test = pd.read_parquet(\"data/attack-samples/20181203_Driver1_Trip9-0.parquet\")\n",
    "df_test_filled = compute_timediff_fillna(df_test)"
   ]
  },
  {
   "cell_type": "code",
   "execution_count": 6,
   "metadata": {},
   "outputs": [
    {
     "name": "stdout",
     "output_type": "stream",
     "text": [
      "[[220938  56623]\n",
      " [  1509  12428]]\n",
      "Accuracy = 0.8005749610631977 \n"
     ]
    }
   ],
   "source": [
    "ypred = iforest.predict(df_test_filled[FEATURES])\n",
    "\n",
    "ypred = pd.Series(np.maximum(-ypred, 0)) # iforest predict -1 vs 1, we need 0 vs 1\n",
    "cf = sklearn.metrics.confusion_matrix(df_test_filled.Label == \"Attack\", ypred)\n",
    "print(cf)\n",
    "\n",
    "print(\"Accuracy = %s \" % sklearn.metrics.accuracy_score(df_test_filled.Label ==\"Attack\", ypred))"
   ]
  },
  {
   "cell_type": "markdown",
   "metadata": {},
   "source": [
    "This is certainly a start. But the accuracy is no where near what’s needed for deployment, especially FPR (false positive rate)! In fact, a majority of predictions are false positives.\n",
    "\n",
    "While there are a lot of exciting approaches for AD and sequential time-series data, including using RNN/LSTM/CNN, autoencoders, self-supervised learning, etc. The fundamental problem with AD is that it is hard to achieve high TPR while simultaneously achieving very low FPR which is what we need.\n",
    "\n",
    "Since AD after all, is a harder problem than supervised learning and while they are important parts of the tool box, we need another strategy to tackle the problem."
   ]
  },
  {
   "cell_type": "markdown",
   "metadata": {},
   "source": [
    "### 2b. Machine teaching: leveraging ML to \"program\" a classifier by specifying human-generated outputs"
   ]
  },
  {
   "cell_type": "markdown",
   "metadata": {},
   "source": [
    "If we zoom in, it is perhaps easier to see the zig-zag patterns of alternating real vs injected messages. It's clear that perhaps we can leverage a ML to classify these kinds of smooth vs zig-zag patterns.\n",
    "\n",
    "After all, ML should excel at pattern recognition.\n",
    "\n",
    "The significance of this approach is that it is much easier for human experts to synthesize the attack data than to write the detection program. And such is the promise of Software 2.0, but will it work?\n",
    "\n",
    "Let's inspect closely one such attack event."
   ]
  },
  {
   "cell_type": "code",
   "execution_count": 7,
   "metadata": {},
   "outputs": [
    {
     "data": {
      "image/png": "[encoded data removed]",
      "text/plain": [
       "<Figure size 432x288 with 1 Axes>"
      ]
     },
     "metadata": {
      "needs_background": "light"
     },
     "output_type": "display_data"
    }
   ],
   "source": [
    "z = df_train[df_train.AttackEventIndex==1]\n",
    "z = z[~z.YawRate.isna()].set_index(\"Timestamp\")\n",
    "\n",
    "import matplotlib.pyplot as plt\n",
    "z.iloc[:100].YawRate.plot(label=\"YawRate\")\n",
    "plt.title('An period with both normal and attacks of YawRate, can you tell which value is the \"Attack\"?')\n",
    "plt.legend()\n",
    "plt.show()"
   ]
  },
  {
   "cell_type": "code",
   "execution_count": 8,
   "metadata": {},
   "outputs": [
    {
     "data": {
      "image/png": "[encoded data removed]",
      "text/plain": [
       "<Figure size 432x288 with 1 Axes>"
      ]
     },
     "metadata": {
      "needs_background": "light"
     },
     "output_type": "display_data"
    }
   ],
   "source": [
    "import matplotlib.pyplot as plt\n",
    "plt.figure()\n",
    "z = z.iloc[:100].reset_index() # pop Timestamp attribute\n",
    "znorm = z[z.Label == \"Normal\"]\n",
    "plt.plot(znorm.Timestamp, znorm.YawRate, label=\"Normal\")\n",
    "zattk = z[z.Label == \"Attack\"]\n",
    "plt.plot(zattk.Timestamp, zattk.YawRate, label=\"Attack\")\n",
    "plt.legend()\n",
    "plt.title(\"With the Label it's much eaiser, but can ML distinguish which is which?\")\n",
    "plt.show()"
   ]
  },
  {
   "cell_type": "markdown",
   "metadata": {},
   "source": [
    "Let’s try a gradient-boosted trees firstly, e.g. sklearn’s HistGradientBoostingClassifier can work well on larger dataset before bringing out bigger guns."
   ]
  },
  {
   "cell_type": "code",
   "execution_count": 9,
   "metadata": {},
   "outputs": [],
   "source": [
    "from sklearn.experimental import enable_hist_gradient_boosting\n",
    "from sklearn.ensemble import HistGradientBoostingClassifier\n",
    "\n",
    "gbc = HistGradientBoostingClassifier(max_iter=500).fit(df_train_filled[FEATURES], df_train_filled.Label == \"Attack\")"
   ]
  },
  {
   "cell_type": "code",
   "execution_count": 10,
   "metadata": {},
   "outputs": [
    {
     "name": "stdout",
     "output_type": "stream",
     "text": [
      "[[277118    443]\n",
      " [  4907   9030]]\n",
      "Accuracy = 0.9816465293072336 \n"
     ]
    }
   ],
   "source": [
    "import numpy as np\n",
    "\n",
    "ypred = gbc.predict(df_test_filled[FEATURES])\n",
    "\n",
    "cf = sklearn.metrics.confusion_matrix(df_test_filled.Label == \"Attack\", ypred)\n",
    "print(cf)\n",
    "\n",
    "print(\"Accuracy = %s \" % sklearn.metrics.accuracy_score(df_test_filled.Label == \"Attack\", ypred))"
   ]
  },
  {
   "cell_type": "markdown",
   "metadata": {},
   "source": [
    "Impressive as it seems, we must note that the false-positive rate is still a bit high at FPR = 520/(520+8660) = 5.66%.  Since CAN messages are very frequent (100-200 msgs/sec in each car), this is still no where near deployment-ready!\n",
    "\n",
    "We can certainly improve results by tuning the model, tuning the fill-NA method, or bring out larger guns like Bidirectional LSTM or CNN or Transformers which can work well on pattern recognition problems on sequential data such as this problem. Powerful deep learning models can recognize these attack patterns well, and can be trained much faster on the full dataset which is quite large in our case.\n",
    "\n",
    "However, we must reckon that these models, after all, are recognizing attack patterns that humans are generating and injecting artificially. While this is convenient to generate output and train the detector program a la “Software 2.0”, for our situation, because the attacks are purely synthetic, we cannot be too sure that they are learning the right things and work robustly and can be trusted to deploy in the field. It’s best to employ them in the right deployment scope, namely useful pattern recognizers."
   ]
  },
  {
   "cell_type": "code",
   "execution_count": null,
   "metadata": {},
   "outputs": [],
   "source": []
  }
 ],
 "metadata": {
  "kernelspec": {
   "display_name": "Python 3",
   "language": "python",
   "name": "python3"
  },
  "language_info": {
   "codemirror_mode": {
    "name": "ipython",
    "version": 3
   },
   "file_extension": ".py",
   "mimetype": "text/x-python",
   "name": "python",
   "nbconvert_exporter": "python",
   "pygments_lexer": "ipython3",
   "version": "3.7.7"
  },
  "toc": {
   "base_numbering": 1,
   "nav_menu": {},
   "number_sections": true,
   "sideBar": true,
   "skip_h1_title": false,
   "title_cell": "Table of Contents",
   "title_sidebar": "Contents",
   "toc_cell": false,
   "toc_position": {},
   "toc_section_display": true,
   "toc_window_display": false
  }
 },
 "nbformat": 4,
 "nbformat_minor": 4
}
